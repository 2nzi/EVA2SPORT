{
  "cells": [
    {
      "cell_type": "code",
      "execution_count": null,
      "id": "826da449",
      "metadata": {
        "colab": {
          "base_uri": "https://localhost:8080/"
        },
        "id": "826da449",
        "outputId": "3ad07536-6675-48fb-b3cf-ba935afdeda8"
      },
      "outputs": [],
      "source": [
        "!pip install git+https://github.com/2nzi/EVA2SPORT.git@dev-pipeline-eva2sport\n",
        "# !rm -rf /content/data/videos/outputs/*\n",
        "\n",
        "!pip install git+https://github.com/facebookresearch/sam2.git\n",
        "!pip install opencv-python torch"
      ]
    },
    {
      "cell_type": "code",
      "execution_count": null,
      "id": "6e162409",
      "metadata": {
        "colab": {
          "base_uri": "https://localhost:8080/"
        },
        "id": "6e162409",
        "outputId": "6d083587-cc00-47da-9edc-8724ed4c7bb6"
      },
      "outputs": [],
      "source": [
        "!mkdir -p checkpoints\n",
        "!wget -O checkpoints/sam2.1_hiera_large.pt ✅ https://dl.fbaipublicfiles.com/segment_anything_2/092824/sam2.1_hiera_large.pt"
      ]
    },
    {
      "cell_type": "code",
      "execution_count": null,
      "id": "4265a572",
      "metadata": {
        "id": "4265a572"
      },
      "outputs": [],
      "source": [
        "from eva2sport import EVA2SportPipeline"
      ]
    },
    {
      "cell_type": "code",
      "execution_count": null,
      "id": "x5uM9v0qNE0k",
      "metadata": {
        "colab": {
          "base_uri": "https://localhost:8080/",
          "height": 1000
        },
        "id": "x5uM9v0qNE0k",
        "outputId": "ded08121-102a-49c8-8f08-48a5caec6838"
      },
      "outputs": [],
      "source": [
        "from eva2sport.export.multi_event_manager import MultiEventManager\n",
        "\n",
        "\"\"\"Exemple de traitement depuis un fichier CSV\"\"\"\n",
        "print(\"🚀 EXEMPLE: TRAITEMENT DEPUIS UN FICHIER CSV\")\n",
        "print(\"=\" * 60)\n",
        "\n",
        "video_name = \"SD_13_06_2025_cam1\"\n",
        "csv_file = \"Timeline_g_SD.csv\"  # Nom du fichier dans data/videos/\n",
        "\n",
        "# Créer le gestionnaire\n",
        "manager = MultiEventManager(video_name)\n",
        "\n",
        "\n",
        "results = manager.process_events_from_csv(\n",
        "    csv_file=csv_file,\n",
        "    timestamp_column='Start time',\n",
        "    filter_column='Row',\n",
        "    filter_value='PdB',\n",
        "    segment_offset_before_seconds=10.0,\n",
        "    segment_offset_after_seconds=5.0,\n",
        "    video_params={\n",
        "        'fps': 5,\n",
        "        'show_minimap': True,\n",
        "        'cleanup_frames': True\n",
        "    }\n",
        ")\n"
      ]
    }
  ],
  "metadata": {
    "accelerator": "GPU",
    "colab": {
      "gpuType": "L4",
      "provenance": []
    },
    "kernelspec": {
      "display_name": "Python 3",
      "name": "python3"
    },
    "language_info": {
      "name": "python"
    }
  },
  "nbformat": 4,
  "nbformat_minor": 5
}
